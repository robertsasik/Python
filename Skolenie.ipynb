{
 "cells": [
  {
   "cell_type": "markdown",
   "id": "e9089cd3",
   "metadata": {},
   "source": [
    "# Import modulov"
   ]
  },
  {
   "cell_type": "code",
   "execution_count": 29,
   "id": "c8ce0ff2",
   "metadata": {},
   "outputs": [
    {
     "name": "stdout",
     "output_type": "stream",
     "text": [
      "<module 'datetime' from 'C:\\\\ProgramData\\\\Anaconda3\\\\lib\\\\datetime.py'>\n",
      "<module 'time' (built-in)>\n",
      "<module 'os' from 'C:\\\\ProgramData\\\\Anaconda3\\\\lib\\\\os.py'>\n",
      "<module 'math' (built-in)>\n",
      "Dnes je  2023-03-13 12:24:21.569963\n"
     ]
    }
   ],
   "source": [
    "import datetime\n",
    "import time\n",
    "import sys\n",
    "import os\n",
    "import math\n",
    "import re\n",
    "\n",
    "print (datetime)\n",
    "print (time)\n",
    "print (os)\n",
    "print (math)\n",
    "\n",
    "#print (\"\\n \\n\")\n",
    "#print (os.__doc__)\n",
    "\n",
    "# print (\"Obsah modulu: \", dir (datetime))\n",
    "# print (\"\\n\",\"Nazov modulu je: \",datetime.__name__)\n",
    "# print (\"\\nObsah modulu: \", dir (math))\n",
    "# print (\"\\nObsah modulu: \", dir (os))\n",
    "# print (help(datetime))\n",
    "\n",
    "dnes = datetime.datetime.now()\n",
    "print (\"Dnes je \", dnes)"
   ]
  },
  {
   "cell_type": "markdown",
   "id": "9003b0c3",
   "metadata": {},
   "source": [
    "# Zabudovane (built-in) funkcie"
   ]
  },
  {
   "cell_type": "code",
   "execution_count": 10,
   "id": "a2f21589",
   "metadata": {},
   "outputs": [
    {
     "name": "stdout",
     "output_type": "stream",
     "text": [
      "5980\n",
      "-500\n",
      "5475\n",
      "5\n",
      "1095.0\n",
      "pocet\t priemer\t sucet\t \n"
     ]
    },
    {
     "name": "stderr",
     "output_type": "stream",
     "text": [
      "A subdirectory or file Faktury already exists.\n"
     ]
    }
   ],
   "source": [
    "print(max([-10, 5, -500, 0, 5980]))\n",
    "print(min([-10, 5, -500, 0, 5980]))\n",
    "print(sum([-10, 5, -500, 0, 5980]))\n",
    "print(len([-10, 5, -500, 0, 5980]))\n",
    "\n",
    "sucet = sum([-10, 5, -500, 0, 5980])\n",
    "pocet = len([-10, 5, -500, 0, 5980])\n",
    "priemer = sucet/pocet\n",
    "print (priemer)\n",
    "\n",
    "%mkdir Faktury\n",
    "%who"
   ]
  },
  {
   "cell_type": "markdown",
   "id": "395d2f72",
   "metadata": {},
   "source": [
    "## Vlastne vypisy, pretypovanie (casting)"
   ]
  },
  {
   "cell_type": "code",
   "execution_count": 48,
   "id": "17c694c5",
   "metadata": {},
   "outputs": [
    {
     "name": "stdout",
     "output_type": "stream",
     "text": [
      "5\n",
      "5.5\n",
      "Adam a Eva\n",
      "Milujem Python\n",
      "Milujem Python\n",
      "Milujem Python\n",
      "Milujem Python ajajaja, no do riti\n",
      "\n",
      "Ahoj \n",
      "Adam\n",
      "Adam\tSangala\n",
      "Meno:\tAdam\n",
      "C:\temp\n",
      "C:\\temp\n",
      "toto je uvodzovka '.\n",
      "toto je dvojita uvodzovka \".\n",
      "\n",
      "Mzda zamestnanec 1987.23, je to typ: <class 'float'>\n",
      "\n",
      "Mzda zamestnanec 1987.23, je to typ: <class 'str'>\n",
      "\n",
      "Mzda zamestnanec True, je to typ: <class 'bool'>\n"
     ]
    }
   ],
   "source": [
    "# Sucet - cisla (int, float)\n",
    "print(2+3)\n",
    "print(2+3.5)\n",
    "print(\"Adam\"+\" a \"+\"Eva\")\n",
    "\n",
    "#Sposoby vypisu retazcov s premennou\n",
    "oblubeny_programovaci_jazyk = \"Python\"\n",
    "print(\"Milujem \" + oblubeny_programovaci_jazyk)\n",
    "print(\"Milujem\",oblubeny_programovaci_jazyk)\n",
    "print(\"Milujem {}\".format(oblubeny_programovaci_jazyk))\n",
    "\n",
    "#F String\n",
    "print(f\"Milujem {oblubeny_programovaci_jazyk} ajajaja, no do riti\")\n",
    "\n",
    "#Ukoncovacie sekvenicie - escaped sequences\n",
    "\n",
    "#\\n - new Line - novy riadok/odriadkovanie - br, vBNewLine\n",
    "\n",
    "#\\ backslash, spatne lomitko - uskutocnuje sa pre ukoncenie sekvencie (alt + 92)\n",
    "# / lomitko\n",
    "print (\"\\nAhoj \\nAdam\")\n",
    "\n",
    "#\\t - tab - tabulator\n",
    "print (\"Adam\\tSangala\")\n",
    "print (\"Meno:\\tAdam\")\n",
    "\n",
    "#\\\\ - \\ spatne lomitko\n",
    "print(\"C:\\temp\")\n",
    "print(\"C:\\\\temp\")\n",
    "\n",
    "# \\' - ' uvodzovka\n",
    "# \\\" - \" dvojita uvodzovka\n",
    "\n",
    "print(\"toto je uvodzovka \\'.\")\n",
    "print(\"toto je dvojita uvodzovka \\\".\")\n",
    "\n",
    "# Pretypovanie/casting\n",
    "mzda_zamestnanec = 1987.23\n",
    "print(f\"\\nMzda zamestnanec {mzda_zamestnanec}, je to typ: {type (mzda_zamestnanec)}\")\n",
    "\n",
    "#Funkcia str() urobi zo vsetkeho, co je na vstupe datovy typ STRING.\n",
    "mzda_zamestnanec_str = str(mzda_zamestnanec)\n",
    "print(f\"\\nMzda zamestnanec {mzda_zamestnanec_str}, je to typ: {type (mzda_zamestnanec_str)}\")\n",
    "\n",
    "#Funkcia bool() urobi zo vsetkeho, co je na vstupe datovy typ BOOLEAN. Ak chceme dostat False, datovy typ nastavime na 0, \n",
    "#alebo dame praydny retazec \"\", alebo nastavime hodnotu na None. \n",
    "mzda_zamestnanec_bool = bool(mzda_zamestnanec)\n",
    "print(f\"\\nMzda zamestnanec {mzda_zamestnanec_bool}, je to typ: {type (mzda_zamestnanec_bool)}\")\n",
    "\n"
   ]
  },
  {
   "cell_type": "markdown",
   "id": "caf05365",
   "metadata": {},
   "source": [
    "## Modul math (matematicky modul / kniznica)"
   ]
  },
  {
   "cell_type": "code",
   "execution_count": 74,
   "id": "dea70ade",
   "metadata": {},
   "outputs": [
    {
     "name": "stdout",
     "output_type": "stream",
     "text": [
      "<module 'math' (built-in)>\n",
      "<class 'module'>\n",
      "This module provides access to the mathematical functions\n",
      "defined by the C standard.\n",
      "6\n",
      "5\n",
      "\n",
      "Math ceil:\n",
      "5\n",
      "5\n",
      "5\n",
      "\n",
      "Math floor:\n",
      "4\n",
      "4\n",
      "4\n",
      "6\n",
      "\n",
      "Math floor:\n",
      "4\n",
      "4\n",
      "4\n",
      "6\n",
      "\n",
      "Math sqrt:\n",
      "9.0\n",
      "\n",
      "Math pow:\n",
      "32.0\n",
      "\n",
      "Math pi:\n",
      "3.141592653589793\n"
     ]
    }
   ],
   "source": [
    "import math\n",
    "print (math)\n",
    "print (type (math))\n",
    "#pristup k zakladnej dokumentacii kniznice math\n",
    "print (math.__doc__)\n",
    "#zoznam funkcii a objektov kniznice math pomocou funkcie dir()\n",
    "#print (dir(math))\n",
    "#help pre kniznicu math pomocou funkcie help()\n",
    "#print (help(math))\n",
    "\n",
    "#round(zaokruhlenie cisla) - klasicke - zabudovana funkcia bez kniznice math\n",
    "print(round(5.5))\n",
    "print(round(5.4))\n",
    "\n",
    "#ceil (zaokruhlenie smerom nahor) - je potrebna kniznica math\n",
    "print (\"\\nMath ceil:\")\n",
    "print (math.ceil(4.5))\n",
    "print (math.ceil(4.3))\n",
    "print (math.ceil(4.001))\n",
    "\n",
    "#floor (zaokruhlenie smerom nadol) - je potrebna kniznica math\n",
    "print (\"\\nMath floor:\")\n",
    "print (math.floor(4.5))\n",
    "print (math.floor(4.3))\n",
    "print (math.floor(4.001))\n",
    "print (math.floor(6))\n",
    "\n",
    "#trunc - orezanie hodnoty a zapisanie celej hodnoty pred desatinnym cislom \n",
    "print (\"\\nMath floor:\")\n",
    "print (math.trunc(4.5))\n",
    "print (math.trunc(4.3))\n",
    "print (math.trunc(4.001))\n",
    "print (math.trunc(6))\n",
    "\n",
    "#sqrt - druha odmocnina\n",
    "print (\"\\nMath sqrt:\")\n",
    "print (math.sqrt(81))\n",
    "\n",
    "#pow - mocnina s 2 parametrami zaklad a exponent napr 2 na 5\n",
    "print (\"\\nMath pow:\")\n",
    "print (math.pow(2, 5))\n",
    "\n",
    "#pi - Ludolfovo cislo, za pi nejdu (), kedze je to konstanta \n",
    "print (\"\\nMath pi:\")\n",
    "print (math.pi)\n",
    "\n"
   ]
  },
  {
   "cell_type": "markdown",
   "id": "36f7e622",
   "metadata": {},
   "source": [
    "## Moduly a kniznice"
   ]
  },
  {
   "cell_type": "code",
   "execution_count": 90,
   "id": "4bf87e42",
   "metadata": {},
   "outputs": [
    {
     "name": "stdout",
     "output_type": "stream",
     "text": [
      "<module 'builtins' (built-in)>\n",
      "Automatically created module for IPython interactive environment\n",
      "\n",
      "\n",
      "Built-in functions, exceptions, and other objects.\n",
      "\n",
      "Noteworthy: None is the `nil' object; Ellipsis represents `...' in slices.\n",
      "\n",
      "\n",
      "builtins\n"
     ]
    }
   ],
   "source": [
    "#defaultne kniznice napr. print(), type() netreba importovat - tzv. builtins moduly, nemusime, ale mozu sa importovat,\n",
    "#napr. ked chceme zistit ich datovy typ. prip, cez dir(), vieme zistit, ktore moduly su zabudovane\n",
    "import builtins\n",
    "print (builtins)\n",
    "#dokumentacia k builtins modulom\n",
    "print(__doc__)\n",
    "print(\"\\n\")\n",
    "print(builtins.__doc__)\n",
    "print(\"\\n\")\n",
    "#zistenie nazvu modulu\n",
    "print(builtins.__name__)\n",
    "\n",
    "# print (type (builtins))\n",
    "# print(dir(builtins))\n"
   ]
  },
  {
   "cell_type": "code",
   "execution_count": 96,
   "id": "dbdd7218",
   "metadata": {},
   "outputs": [
    {
     "name": "stdout",
     "output_type": "stream",
     "text": [
      "['.ipynb_checkpoints', 'data.txt', 'data2.txt', 'Faktury', 'Kurz_Python_Den1.ipynb', 'Kurz_Python_Den1a.ipynb', 'Kurz_Python_Den2.ipynb', 'Skolenie.ipynb', 'test.ipynb', 'Untitled.ipynb']\n"
     ]
    }
   ],
   "source": [
    "# operacny system\n",
    "import  os \n",
    "#info o module os\n",
    "# print (os)\n",
    "#blizsie info o module os\n",
    "# print (os.__doc__)\n",
    "print (os.listdir())"
   ]
  },
  {
   "cell_type": "code",
   "execution_count": 1,
   "id": "01c4ccdc",
   "metadata": {},
   "outputs": [
    {
     "name": "stdout",
     "output_type": "stream",
     "text": [
      "<module 'os' from 'C:\\\\ProgramData\\\\Anaconda3\\\\lib\\\\os.py'>\n",
      "\n",
      "\n",
      "['.ipynb_checkpoints', 'data.txt', 'data2.txt', 'Faktury', 'Kurz_Python_Den1.ipynb', 'Kurz_Python_Den1a.ipynb', 'Kurz_Python_Den2.ipynb', 'Skolenie.ipynb', 'test.ipynb', 'Untitled.ipynb']\n",
      "\n",
      "\n",
      "C:\\Users\\Róbert Sásik\\_SCRIPTS_\\! SAV Python Zaklady - Sasik\n"
     ]
    }
   ],
   "source": [
    "import os\n",
    "print (os)\n",
    "print (\"\\n\")\n",
    "#Return a list containing the names of the entries in the directory given by path. \n",
    "print(os.listdir())\n",
    "print (\"\\n\")\n",
    "#Return a string representing the current working directory.\n",
    "print(os.getcwd())"
   ]
  },
  {
   "cell_type": "code",
   "execution_count": 2,
   "id": "66303430",
   "metadata": {},
   "outputs": [
    {
     "name": "stdout",
     "output_type": "stream",
     "text": [
      "win32\n",
      "Windows\n",
      "('64bit', 'WindowsPE')\n",
      "AMD64\n"
     ]
    }
   ],
   "source": [
    "# sys - Access system-specific parameters and functions.\n",
    "import sys\n",
    "import platform\n",
    "#This string contains a platform identifier that can be used to append platform-specific components to sys.path, for instance.\n",
    "print (sys.platform)\n",
    "\n",
    "print (platform.system())\n",
    "print (platform.architecture())\n",
    "print (platform.machine())"
   ]
  },
  {
   "cell_type": "markdown",
   "id": "d96cac0a",
   "metadata": {},
   "source": [
    "## Modul prettytable"
   ]
  },
  {
   "cell_type": "code",
   "execution_count": 7,
   "id": "0e3b61e7",
   "metadata": {},
   "outputs": [
    {
     "name": "stdout",
     "output_type": "stream",
     "text": [
      "Requirement already satisfied: prettytable in c:\\programdata\\anaconda3\\lib\\site-packages (3.5.0)\n",
      "Requirement already satisfied: wcwidth in c:\\programdata\\anaconda3\\lib\\site-packages (from prettytable) (0.2.5)\n"
     ]
    }
   ],
   "source": [
    "!pip install prettytable"
   ]
  },
  {
   "cell_type": "code",
   "execution_count": 8,
   "id": "b315c885",
   "metadata": {},
   "outputs": [
    {
     "name": "stdout",
     "output_type": "stream",
     "text": [
      "+-------+------------+------------------+------------------+\n",
      "|  meno | priezvisko |      email       | pracovna pozicia |\n",
      "+-------+------------+------------------+------------------+\n",
      "|  Adam |  Šangala   | adam@sangala.sk  |     zbojnik      |\n",
      "| Karol |  Šangala   | karol@sangala.sk |     lupežník     |\n",
      "+-------+------------+------------------+------------------+\n"
     ]
    }
   ],
   "source": [
    "import prettytable\n",
    "#vytvorenie hlavicky tabulky\n",
    "tabulka = prettytable.PrettyTable([\"meno\", \"priezvisko\", \"email\", \"pracovna pozicia\"])\n",
    "tabulka.add_row([\"Adam\", \"Šangala\", \"adam@sangala.sk\", \"zbojnik\"])\n",
    "tabulka.add_row([\"Karol\", \"Šangala\", \"karol@sangala.sk\", \"lupežník\"])\n",
    "print(tabulka)"
   ]
  },
  {
   "cell_type": "code",
   "execution_count": 9,
   "id": "b9d23594",
   "metadata": {},
   "outputs": [
    {
     "name": "stdout",
     "output_type": "stream",
     "text": [
      "+-------+------------+------------------+------------------+\n",
      "|  meno | priezvisko |      email       | pracovna pozicia |\n",
      "+-------+------------+------------------+------------------+\n",
      "|  Adam |  Šangala   | adam@sangala.sk  |     zbojnik      |\n",
      "| Karol |  Šangala   | karol@sangala.sk |     lupežník     |\n",
      "+-------+------------+------------------+------------------+\n"
     ]
    }
   ],
   "source": [
    "from prettytable import PrettyTable\n",
    "#vytvorenie hlavicky tabulky\n",
    "tabulka = PrettyTable([\"meno\", \"priezvisko\", \"email\", \"pracovna pozicia\"])\n",
    "tabulka.add_row([\"Adam\", \"Šangala\", \"adam@sangala.sk\", \"zbojnik\"])\n",
    "tabulka.add_row([\"Karol\", \"Šangala\", \"karol@sangala.sk\", \"lupežník\"])\n",
    "print(tabulka)"
   ]
  },
  {
   "cell_type": "code",
   "execution_count": 11,
   "id": "aa7d56b7",
   "metadata": {},
   "outputs": [
    {
     "name": "stdout",
     "output_type": "stream",
     "text": [
      "+-----------+------+------------+-----------------+\n",
      "| City name | Area | Population | Annual Rainfall |\n",
      "+-----------+------+------------+-----------------+\n",
      "|  Adelaide | 1295 |  1158259   |      600.5      |\n",
      "|  Brisbane | 5905 |  1857594   |      1146.4     |\n",
      "|   Darwin  | 112  |   120900   |      1714.7     |\n",
      "|   Hobart  | 1357 |   205556   |      619.5      |\n",
      "|   Sydney  | 2058 |  4336374   |      1214.8     |\n",
      "| Melbourne | 1566 |  3806092   |      646.9      |\n",
      "|   Perth   | 5386 |  1554769   |      869.4      |\n",
      "+-----------+------+------------+-----------------+\n"
     ]
    }
   ],
   "source": [
    "from prettytable import PrettyTable\n",
    "x = PrettyTable()\n",
    "x.field_names = [\"City name\", \"Area\", \"Population\", \"Annual Rainfall\"]\n",
    "x.add_row([\"Adelaide\", 1295, 1158259, 600.5])\n",
    "x.add_row([\"Brisbane\", 5905, 1857594, 1146.4])\n",
    "x.add_row([\"Darwin\", 112, 120900, 1714.7])\n",
    "x.add_row([\"Hobart\", 1357, 205556, 619.5])\n",
    "x.add_row([\"Sydney\", 2058, 4336374, 1214.8])\n",
    "x.add_row([\"Melbourne\", 1566, 3806092, 646.9])\n",
    "x.add_row([\"Perth\", 5386, 1554769, 869.4])\n",
    "\n",
    "print (x)"
   ]
  },
  {
   "cell_type": "code",
   "execution_count": 12,
   "id": "6165cb82",
   "metadata": {},
   "outputs": [
    {
     "name": "stdout",
     "output_type": "stream",
     "text": [
      "The Zen of Python, by Tim Peters\n",
      "\n",
      "Beautiful is better than ugly.\n",
      "Explicit is better than implicit.\n",
      "Simple is better than complex.\n",
      "Complex is better than complicated.\n",
      "Flat is better than nested.\n",
      "Sparse is better than dense.\n",
      "Readability counts.\n",
      "Special cases aren't special enough to break the rules.\n",
      "Although practicality beats purity.\n",
      "Errors should never pass silently.\n",
      "Unless explicitly silenced.\n",
      "In the face of ambiguity, refuse the temptation to guess.\n",
      "There should be one-- and preferably only one --obvious way to do it.\n",
      "Although that way may not be obvious at first unless you're Dutch.\n",
      "Now is better than never.\n",
      "Although never is often better than *right* now.\n",
      "If the implementation is hard to explain, it's a bad idea.\n",
      "If the implementation is easy to explain, it may be a good idea.\n",
      "Namespaces are one honking great idea -- let's do more of those!\n"
     ]
    }
   ],
   "source": [
    "import this"
   ]
  },
  {
   "cell_type": "markdown",
   "id": "b1ec097a",
   "metadata": {},
   "source": [
    "# 🐍 Zaklady programovacieho jazyka Python"
   ]
  },
  {
   "cell_type": "markdown",
   "id": "51184275",
   "metadata": {},
   "source": [
    "## Riadiace struktury (Control flow)"
   ]
  },
  {
   "cell_type": "markdown",
   "id": "fe279fc8",
   "metadata": {},
   "source": [
    "1. if, else, elif - vetvenie, rozhodovanie\n",
    "2. for - cyklus, opakovanie\n",
    "3. while - cyklus, opakovanie  \n",
    "break, continue "
   ]
  },
  {
   "cell_type": "markdown",
   "id": "f91dcb2c",
   "metadata": {},
   "source": [
    "## Struktura If"
   ]
  },
  {
   "cell_type": "code",
   "execution_count": 65,
   "id": "e4f928ed",
   "metadata": {},
   "outputs": [
    {
     "name": "stdout",
     "output_type": "stream",
     "text": [
      "Kolko mas rokov? --> 41\n",
      "Mas 41 rokov\n",
      "Dostanes vodicak, lebo mas 41 rokov.\n"
     ]
    }
   ],
   "source": [
    "vek = abs(int(input(\"Kolko mas rokov? --> \")))\n",
    "print (f\"Mas {vek} rokov\")\n",
    "\n",
    "if vek >= 18:\n",
    "    print (f\"Dostanes vodicak, lebo mas {vek} rokov.\")\n",
    "else:\n",
    "    print(\"Nedostanes vodicak!\")\n"
   ]
  },
  {
   "cell_type": "code",
   "execution_count": 64,
   "id": "3806bdd1",
   "metadata": {},
   "outputs": [
    {
     "name": "stdout",
     "output_type": "stream",
     "text": [
      "Kolko mas rokov? --> 5441\n",
      "Mas 5441 rokov\n",
      "Nedostanes vodicak\n"
     ]
    }
   ],
   "source": [
    "vek = abs(int(input(\"Kolko mas rokov? --> \")))\n",
    "print (f\"Mas {vek} rokov\")\n",
    "\n",
    "if vek < 18:\n",
    "    print (\"Nedostanes vodicak...\")\n",
    "elif  vek < 90:\n",
    "    print(\"Dostanes vodicak...\")\n",
    "else:\n",
    "    print (\"Nedostanes vodicak\")"
   ]
  },
  {
   "cell_type": "code",
   "execution_count": 67,
   "id": "842e3d51",
   "metadata": {},
   "outputs": [
    {
     "name": "stdout",
     "output_type": "stream",
     "text": [
      "Kolko mas rokov? --> 89\n",
      "Mas 89 rokov\n",
      "Dostanes vodicak...\n"
     ]
    }
   ],
   "source": [
    "vek = abs(int(input(\"Kolko mas rokov? --> \")))\n",
    "print (f\"Mas {vek} rokov\")\n",
    "\n",
    "if vek >= 18 and vek < 90:\n",
    "    print (\"Dostanes vodicak...\")\n",
    "else:\n",
    "    print(\"Nedostanes vodicak...\")"
   ]
  },
  {
   "cell_type": "code",
   "execution_count": 9,
   "id": "13771f7a",
   "metadata": {},
   "outputs": [
    {
     "name": "stdout",
     "output_type": "stream",
     "text": [
      "Kolko mas rokov? --> 17\n"
     ]
    }
   ],
   "source": [
    "vek = abs(int(input(\"Kolko mas rokov? --> \")))\n",
    "# print (f\"Mas {vek} rokov\")\n",
    "\n",
    "if vek == 18:\n",
    "    pass\n",
    "    print (\"Gratulujem, uz si dospely.\")   \n",
    "    "
   ]
  },
  {
   "cell_type": "code",
   "execution_count": 7,
   "id": "3d02c672",
   "metadata": {},
   "outputs": [
    {
     "name": "stdout",
     "output_type": "stream",
     "text": [
      "\n",
      "Porovnanie - rovnost\n",
      "\n",
      "True\n",
      "False\n",
      "\n",
      "Porovnanie - nerovnost\n",
      "\n",
      "False\n",
      "True\n"
     ]
    }
   ],
   "source": [
    "# = priradenie (assigment)\n",
    "# a = 3 \n",
    "# pocet_jablk = 10\n",
    "\n",
    "# == porovnanie, operator rovnosti, vystup je True alebo False\n",
    "print (\"\\nPorovnanie - rovnost\\n\")\n",
    "print (5==5)\n",
    "print (10==9)\n",
    "\n",
    "# != porovnanie, operator nerovnosti, vystup je True alebo False\n",
    "print (\"\\nPorovnanie - nerovnost\\n\")\n",
    "print (5!=5)\n",
    "print (10!=9)\n"
   ]
  },
  {
   "cell_type": "code",
   "execution_count": null,
   "id": "0235ffe3",
   "metadata": {},
   "outputs": [],
   "source": [
    "abs (-50)"
   ]
  },
  {
   "cell_type": "markdown",
   "id": "3ce0b113",
   "metadata": {},
   "source": [
    "### Logicke operatory"
   ]
  },
  {
   "cell_type": "code",
   "execution_count": 54,
   "id": "14e9891b",
   "metadata": {},
   "outputs": [
    {
     "name": "stdout",
     "output_type": "stream",
     "text": [
      "And\n",
      "True\n",
      "False\n",
      "\n",
      "Or\n",
      "True\n",
      "True\n",
      "False\n",
      "\n",
      "Not\n",
      "False\n",
      "False\n",
      "True\n"
     ]
    }
   ],
   "source": [
    "# a - and (Log. sucin)\n",
    "# alebo - or (Log. sucet)\n",
    "# negacia - not\n",
    "\n",
    "# True = Log. 1\n",
    "# False = Log. 0\n",
    "print (\"And\")\n",
    "print (True and True and True)\n",
    "print (False and True and True)\n",
    "\n",
    "print(\"\\nOr\")\n",
    "print (True or True)\n",
    "print (True or False or True)\n",
    "print (False or False or False)\n",
    "\n",
    "print(\"\\nNot\")\n",
    "print (not(True or True))\n",
    "print (not(True or False or True))\n",
    "print (not(False or False or False))\n"
   ]
  },
  {
   "cell_type": "markdown",
   "id": "c0da16a5",
   "metadata": {},
   "source": [
    "## Zoznamy (List), Range"
   ]
  },
  {
   "cell_type": "code",
   "execution_count": 37,
   "id": "e5cda2a0",
   "metadata": {},
   "outputs": [
    {
     "name": "stdout",
     "output_type": "stream",
     "text": [
      "Zoznam ma dlzku 7 poloziek\n",
      "1. zamestnanec, 0. index --> Ivan\n",
      "2. zamestnanec, 1. index --> Monika\n",
      "5. zamestnanec, 4. index --> Peter\n",
      "7. posledny zamestnanec, 6. index, alebo -1 --> Ursula\n",
      "6. predposledny zamestnanec, 5. index, alebo -2 --> Milan\n",
      "\n",
      "Range\n",
      "\n",
      "\n",
      "range(0, 5)\n",
      "[0, 1, 2, 3, 4]\n",
      "\n",
      "\n",
      "[0, 1, 2, 3, 4, 5, 6, 7, 8, 9]\n",
      "\n",
      "\n",
      "[1, 2, 3, 4, 5, 6, 7, 8, 9, 10]\n",
      "\n",
      "\n",
      "[-10, -9, -8, -7, -6, -5, -4, -3, -2, -1, 0, 1, 2, 3, 4, 5, 6, 7, 8, 9, 10]\n",
      "\n",
      "\n",
      "[-10, -8, -6, -4, -2, 0, 2, 4, 6, 8, 10]\n"
     ]
    }
   ],
   "source": [
    "#Zoznam(List)\n",
    "zoznam_zamestnanci = [\"Ivan\", \"Monika\", \"Maria\", \"Tomas\", \"Peter\", \"Milan\", \"Ursula\" ]\n",
    "#Zistenie dlzky zoznamu\n",
    "print(f\"Zoznam ma dlzku {len(zoznam_zamestnanci)} poloziek\")\n",
    "print(\"1. zamestnanec, 0. index -->\", zoznam_zamestnanci[0])\n",
    "print(\"2. zamestnanec, 1. index -->\", zoznam_zamestnanci[1])\n",
    "print(\"5. zamestnanec, 4. index -->\", zoznam_zamestnanci[4])\n",
    "print(\"7. posledny zamestnanec, 6. index, alebo -1 -->\", zoznam_zamestnanci[-1])\n",
    "print(\"6. predposledny zamestnanec, 5. index, alebo -2 -->\", zoznam_zamestnanci[-2])\n",
    "\n",
    "#Rozsah (Range) - zabudovana funkcia\n",
    "print(\"\\nRange\")\n",
    "print(\"\\n\")\n",
    "rozsah = range(5)\n",
    "print(rozsah)\n",
    "\n",
    "#Prekonvertovanie Rozsahu na Zoznam\n",
    "print(list(rozsah))\n",
    "print(\"\\n\")\n",
    "rozsah = range(10)\n",
    "print(list(rozsah))\n",
    "print(\"\\n\")\n",
    "rozsah = range(1, 11)\n",
    "print(list(rozsah))\n",
    "print(\"\\n\")\n",
    "rozsah = range(-10, 11)\n",
    "print(list(rozsah))\n",
    "#Parameter step, skok.\n",
    "print(\"\\n\")\n",
    "rozsah = range(-10, 11, 2)\n",
    "print(list(rozsah))\n",
    "#print(dir()) - vylistuje obsah objektov vo funkcii range()\n",
    "#print(dir())"
   ]
  },
  {
   "cell_type": "markdown",
   "id": "b0f25d63",
   "metadata": {},
   "source": [
    "## Operator In"
   ]
  },
  {
   "cell_type": "code",
   "execution_count": 47,
   "id": "7836704c",
   "metadata": {},
   "outputs": [
    {
     "name": "stdout",
     "output_type": "stream",
     "text": [
      "Operator in retazec\n",
      "True\n",
      "False\n",
      "False\n",
      "True\n",
      "\n",
      "\n",
      "Operator in zoznam\n",
      "Je Ivan v zozname zamestnancov?\n",
      "True\n"
     ]
    }
   ],
   "source": [
    "# Ci je nieco sucastou niecoho, vracia True alebo False\n",
    "\n",
    "print(\"Operator in retazec\")\n",
    "print(\"K\" in \"Karol\")\n",
    "print(\"X\" in \"Karol\")\n",
    "print(\"k\" in \"Karol\")\n",
    "print(\"rol\" in \"Karol\")\n",
    "\n",
    "print(\"\\n\")\n",
    "print(\"Operator in zoznam\")\n",
    "zoznam_zamestnanci = [\"Ivan\", \"Monika\", \"Maria\", \"Tomas\", \"Peter\", \"Milan\", \"Ursula\" ]\n",
    "print (f\"Je {zoznam_zamestnanci[0]} v zozname zamestnancov?\")\n",
    "print(\"Ivan\" in zoznam_zamestnanci)\n"
   ]
  },
  {
   "cell_type": "markdown",
   "id": "828a26aa",
   "metadata": {},
   "source": [
    "# Struktura for (cyklus)"
   ]
  },
  {
   "cell_type": "code",
   "execution_count": 61,
   "id": "1dd45562",
   "metadata": {},
   "outputs": [
    {
     "name": "stdout",
     "output_type": "stream",
     "text": [
      "Ahoj svet\n",
      "Ahoj svet\n",
      "Ahoj svet\n",
      "Ahoj svet\n",
      "Ahoj svet\n",
      "\n",
      "\n",
      "0 . Ahoj svet\n",
      "1 . Ahoj svet\n",
      "2 . Ahoj svet\n",
      "3 . Ahoj svet\n",
      "4 . Ahoj svet\n",
      "\n",
      "\n",
      "1 . Ahoj svet\n",
      "2 . Ahoj svet\n",
      "3 . Ahoj svet\n",
      "4 . Ahoj svet\n",
      "5 . Ahoj svet\n"
     ]
    }
   ],
   "source": [
    "# i - pomocna premenna, iteracia\n",
    "# 5 x vypis Ahoj svet\n",
    "for i in range(5):\n",
    "    print (\"Ahoj svet\")\n",
    "print (\"\\n\")\n",
    "# 5 x vypis Ahoj svet aj s iteraciou\n",
    "for i in range(5):\n",
    "    print (i, \". Ahoj svet\")\n",
    "print (\"\\n\")\n",
    "# 5 x vypis Ahoj svet aj s iteraciou od 1\n",
    "for i in range(1,6):\n",
    "    print (i, \". Ahoj svet\")\n"
   ]
  },
  {
   "cell_type": "code",
   "execution_count": 3,
   "id": "763fee35",
   "metadata": {},
   "outputs": [
    {
     "name": "stdout",
     "output_type": "stream",
     "text": [
      "\n",
      "Zoznam zamestnancov:\n",
      "Adam\n",
      "Eva\n",
      "Jan\n",
      "Robert\n",
      "Anna\n",
      "Martina\n",
      "Peter\n",
      "Kristina\n",
      "Jozef\n"
     ]
    }
   ],
   "source": [
    "print(\"\\nZoznam zamestnancov:\")\n",
    "zoznam_zamestnanci = [\"Adam\", \"Eva\", \"Jan\", \"Robert\", \"Anna\", \"Martina\", \"Peter\", \"Kristina\", \"Jozef\",]\n",
    "for i in zoznam_zamestnanci:\n",
    "    print(i)"
   ]
  },
  {
   "cell_type": "code",
   "execution_count": 4,
   "id": "156baf99",
   "metadata": {},
   "outputs": [
    {
     "name": "stdout",
     "output_type": "stream",
     "text": [
      "1\n",
      "3\n",
      "6\n",
      "Sucet je 6\n",
      "Pocet je 3\n",
      "Priemer je: 2.0\n"
     ]
    }
   ],
   "source": [
    "sucet = 0\n",
    "rozsah = range (1,4)\n",
    "pocet = len(list(range(1,4)))\n",
    "for i in rozsah:\n",
    "    sucet = sucet + i\n",
    "    print (sucet)\n",
    "print (f\"Sucet je {sucet}\")\n",
    "print (f\"Pocet je {pocet}\")\n",
    "print (f\"Priemer je: {sucet / pocet}\")"
   ]
  },
  {
   "cell_type": "code",
   "execution_count": 5,
   "id": "5085f1f5",
   "metadata": {},
   "outputs": [
    {
     "name": "stdout",
     "output_type": "stream",
     "text": [
      "druhá mocnina 5 je 25\n",
      "druhá mocnina 7 je 49\n",
      "druhá mocnina 11 je 121\n",
      "druhá mocnina 13 je 169\n",
      "druhá mocnina 23 je 529\n"
     ]
    }
   ],
   "source": [
    "for x in 5, 7, 11, 13, 23:\n",
    "    x2 = x ** 2\n",
    "    print('druhá mocnina', x, 'je', x2)"
   ]
  },
  {
   "cell_type": "code",
   "execution_count": 6,
   "id": "04bb81b4",
   "metadata": {},
   "outputs": [
    {
     "name": "stdout",
     "output_type": "stream",
     "text": [
      "Tato hodnota 0.0 je v radianoch\n",
      "Kosinus uhla 0 je: 1.0\n",
      "Tato hodnota 0.7853981633974483 je v radianoch\n",
      "Kosinus uhla 45 je: 0.7071067812\n",
      "Tato hodnota 1.5707963267948966 je v radianoch\n",
      "Kosinus uhla 90 je: 0.0\n",
      "Tato hodnota 3.141592653589793 je v radianoch\n",
      "Kosinus uhla 180 je: -1.0\n",
      "Tato hodnota 6.283185307179586 je v radianoch\n",
      "Kosinus uhla 360 je: 1.0\n"
     ]
    }
   ],
   "source": [
    "\"\"\"\n",
    "You can expect that cos(π/2) is exactly 0, but floating point value math.pi is only \n",
    "an approximation of the π number. The difference between math.pi \n",
    "and exact value of π leads to non-zero result of cos(math.pi/2).\n",
    "\"\"\"\n",
    "import math\n",
    "for x in 0, 45, 90, 180, 360:\n",
    "    rad = x*math.pi/180\n",
    "    print(f\"Tato hodnota {rad} je v radianoch\")\n",
    "    x2 = math.cos(rad)\n",
    "    print (f\"Kosinus uhla {x} je: {round(x2,10)}\")"
   ]
  },
  {
   "cell_type": "code",
   "execution_count": 7,
   "id": "971d8bb4",
   "metadata": {},
   "outputs": [
    {
     "name": "stdout",
     "output_type": "stream",
     "text": [
      "3.141592653589793\n",
      "3.14\n",
      "134\n",
      "133\n",
      "130.0\n"
     ]
    }
   ],
   "source": [
    "import math\n",
    "print (math.pi)\n",
    "print(round(math.pi, 2))\n",
    "\n",
    "print (math.ceil (133.13))\n",
    "print (math.floor (133.13))\n",
    "print (round (133.13, -1))"
   ]
  },
  {
   "cell_type": "markdown",
   "id": "060e35c0",
   "metadata": {},
   "source": [
    "## Reverzne prechadzanie, enumeracia"
   ]
  },
  {
   "cell_type": "code",
   "execution_count": 24,
   "id": "2e36f104",
   "metadata": {},
   "outputs": [
    {
     "name": "stdout",
     "output_type": "stream",
     "text": [
      "\n",
      "Zoznam zamestnancov:\n",
      "Adam\n",
      "Eva\n",
      "Jan\n",
      "Robert\n",
      "Anna\n",
      "Martina\n",
      "Peter\n",
      "Kristina\n",
      "Jozef\n",
      "\n",
      "Reverzny zoznam zamestnancov:\n",
      "Jozef\n",
      "Kristina\n",
      "Peter\n",
      "Martina\n",
      "Anna\n",
      "Robert\n",
      "Jan\n",
      "Eva\n",
      "Adam\n",
      "\n",
      "Cislovany zoznam zamestnancov:\n",
      "1 --> Adam\n",
      "2 --> Eva\n",
      "3 --> Jan\n",
      "4 --> Robert\n",
      "5 --> Anna\n",
      "6 --> Martina\n",
      "7 --> Peter\n",
      "8 --> Kristina\n",
      "9 --> Jozef\n"
     ]
    }
   ],
   "source": [
    "print(\"\\nZoznam zamestnancov:\")\n",
    "zoznam_zamestnanci = [\"Adam\", \"Eva\", \"Jan\", \"Robert\", \"Anna\", \"Martina\", \"Peter\", \"Kristina\", \"Jozef\",]\n",
    "for i in zoznam_zamestnanci:\n",
    "    print(i)\n",
    "    \n",
    "\n",
    "print(\"\\nReverzny zoznam zamestnancov:\")\n",
    "for zamestnanec in reversed (zoznam_zamestnanci):\n",
    "    print(zamestnanec)\n",
    "\n",
    "print(\"\\nCislovany zoznam zamestnancov:\")\n",
    "for i,zamestnanec in enumerate(zoznam_zamestnanci):\n",
    "    print(i+1,\"-->\" ,zamestnanec)"
   ]
  },
  {
   "cell_type": "code",
   "execution_count": 16,
   "id": "e63c874e",
   "metadata": {},
   "outputs": [],
   "source": [
    "!pip list"
   ]
  },
  {
   "cell_type": "markdown",
   "id": "a5c7d1e2",
   "metadata": {},
   "source": [
    "## Struktura while (cyklus)"
   ]
  },
  {
   "cell_type": "code",
   "execution_count": 45,
   "id": "180aa875",
   "metadata": {},
   "outputs": [
    {
     "name": "stdout",
     "output_type": "stream",
     "text": [
      "1 Ahoj Python\n",
      "2 Ahoj Python\n",
      "3 Ahoj Python\n",
      "4 Ahoj Python\n",
      "5 Ahoj Python\n",
      "6 Ahoj Python\n",
      "7 Ahoj Python\n",
      "8 Ahoj Python\n",
      "9 Ahoj Python\n",
      "10 Ahoj Python\n",
      "Sme na konci...\n",
      "\n",
      "\n",
      "Chcem zit nonstop v roku 2023\n",
      "Chcem zit nonstop v roku 2024\n",
      "Chcem zit nonstop v roku 2025\n",
      "Chcem zit nonstop v roku 2026\n",
      "Chcem zit nonstop v roku 2027\n",
      "Chcem zit nonstop v roku 2028\n",
      "Chcem zit nonstop v roku 2029\n",
      "Koncime\n",
      "Chcem zit nonstop v roku 2024\n",
      "Chcem zit nonstop v roku 2025\n",
      "Chcem zit nonstop v roku 2026\n",
      "Chcem zit nonstop v roku 2027\n",
      "Chcem zit nonstop v roku 2028\n",
      "Chcem zit nonstop v roku 2029\n",
      "Chcem zit nonstop v roku 2030\n",
      "Koncime\n",
      "\n"
     ]
    }
   ],
   "source": [
    "i = 1\n",
    "while i <= 10:\n",
    "    print(i, \"Ahoj Python\")\n",
    "    #Zakladny zapis\n",
    "#     i = i + 1\n",
    "    #Skrateny (programatorsky) zapis\n",
    "    #Inkrementacie - zvysenie hodnoty o 1\n",
    "    i +=1\n",
    "    #Obidva zapisy robia to iste\n",
    "    #Dekrementacia - znizenie hodnoty o 1\n",
    "\n",
    "print(\"Sme na konci...\")\n",
    "print(\"\\n\")\n",
    "\n",
    "#Nekonecny program\n",
    "# while True:\n",
    "#     print (\"Chcem zit nonstop...\")\n",
    "\n",
    "rok = 2023\n",
    "while True:\n",
    "    print (\"Chcem zit nonstop v roku\", rok)\n",
    "    rok +=1\n",
    "    \n",
    "    if rok >= 2030:\n",
    "        print (\"Koncime\")\n",
    "        break\n",
    "\n",
    "#Vo vacsine pripadov cyklu while sa najprv overuje (if) a potom vyhodnocuje \n",
    "\n",
    "rok = 2023\n",
    "while True:\n",
    "    if rok >= 2030:\n",
    "        print (\"Koncime\")\n",
    "        break\n",
    "    rok +=1\n",
    "    print (\"Chcem zit nonstop v roku\", rok)"
   ]
  },
  {
   "cell_type": "markdown",
   "id": "74d6eeba",
   "metadata": {},
   "source": [
    "## Continue"
   ]
  },
  {
   "cell_type": "code",
   "execution_count": 47,
   "id": "c4fa39af",
   "metadata": {},
   "outputs": [
    {
     "name": "stdout",
     "output_type": "stream",
     "text": [
      "1\n",
      "2\n",
      "4\n",
      "5\n",
      "7\n",
      "8\n",
      "10\n",
      "11\n",
      "13\n",
      "14\n",
      "16\n",
      "17\n",
      "19\n"
     ]
    }
   ],
   "source": [
    "#V programatorskej praxi sa continue pouziva zriedka\n",
    "for i in range (0, 20):\n",
    "    if i % 3 == 0:\n",
    "        continue\n",
    "    print(i)\n",
    "    "
   ]
  },
  {
   "cell_type": "markdown",
   "id": "8b2278c6",
   "metadata": {},
   "source": [
    "## Praca so subormi "
   ]
  },
  {
   "cell_type": "code",
   "execution_count": 13,
   "id": "d59a5d4b",
   "metadata": {},
   "outputs": [
    {
     "name": "stdout",
     "output_type": "stream",
     "text": [
      "Som zapisal...\n"
     ]
    }
   ],
   "source": [
    "#import modulu datetime\n",
    "import datetime\n",
    "#ulozenie aktualneho datumu a casu do premennej dnes\n",
    "dnes = datetime.datetime.now()\n",
    "#Otvorenie suboru na zapis - vytvorenie premennej subor\n",
    "subor = open(\"logy.txt\", \"w\")\n",
    "#zapis do suboru s aktualnym datumom a casom \n",
    "#(premennu dnes je potrebne prekonvertovat na string)\n",
    "sprava = str(dnes) + \"--Dnes je pekny den.\\n\"\n",
    "subor.write(sprava)\n",
    "#Potvrdenie, ze do suboru sa text zapisal\n",
    "print(\"Som zapisal...\")\n",
    "#Vzdy je potrebne subor zavriet pomocou close()\n",
    "subor.close()"
   ]
  },
  {
   "cell_type": "markdown",
   "id": "b7a06b07",
   "metadata": {},
   "source": [
    "Append (pridanie noveho riadku v subore)"
   ]
  },
  {
   "cell_type": "code",
   "execution_count": 27,
   "id": "71f6e9f3",
   "metadata": {},
   "outputs": [
    {
     "name": "stdout",
     "output_type": "stream",
     "text": [
      "Som zapisal...\n"
     ]
    }
   ],
   "source": [
    "#import modulu datetime\n",
    "import datetime\n",
    "#ulozenie aktualneho datumu a casu do premennej dnes\n",
    "dnes = datetime.datetime.now()\n",
    "#Otvorenie suboru na zapis - vytvorenie premennej subor\n",
    "subor = open(\"logy.txt\", \"a\")\n",
    "#zapis do suboru s aktualnym datumom a casom \n",
    "#(premennu dnes je potrebne prekonvertovat na string)\n",
    "sprava = str(dnes) + \"--Dnes je pekny den.\\n\"\n",
    "subor.write(sprava)\n",
    "#Potvrdenie, ze do suboru sa text zapisal\n",
    "print(\"Som zapisal...\")\n",
    "#Vzdy je potrebne subor zavriet pomocou close()\n",
    "subor.close()"
   ]
  },
  {
   "cell_type": "code",
   "execution_count": 28,
   "id": "49fb897f",
   "metadata": {},
   "outputs": [
    {
     "name": "stdout",
     "output_type": "stream",
     "text": [
      "Obsah suboru:\n",
      "2023-03-20 20:55:23.439788--Dnes je pekny den.\n",
      "2023-03-20 20:55:33.730460--Dnes je pekny den.\n",
      "2023-03-20 21:11:11.776539--Dnes je pekny den.\n",
      "2023-03-20 21:11:16.610946--Dnes je pekny den.\n",
      "2023-03-20 21:11:20.944420--Dnes je pekny den.\n",
      "2023-03-20 21:12:35.333642--Dnes je pekny den.\n",
      "\n"
     ]
    }
   ],
   "source": [
    "#Citanie zo suboru\n",
    "subor = open(\"logy.txt\", \"r\")\n",
    "data = subor.read()\n",
    "print(f\"Obsah suboru:\\n{data}\")\n",
    "subor.close()"
   ]
  },
  {
   "cell_type": "code",
   "execution_count": 51,
   "id": "cb3570bd",
   "metadata": {},
   "outputs": [
    {
     "name": "stdout",
     "output_type": "stream",
     "text": [
      "Obsah suboru:\n",
      "2023\n"
     ]
    }
   ],
   "source": [
    "#Citanie zo suboru po bajtoch (napr.4)\n",
    "subor = open(\"logy.txt\", \"r\")\n",
    "data = subor.read(4)\n",
    "print(f\"Obsah suboru:\\n{data}\")\n",
    "subor.close()"
   ]
  },
  {
   "cell_type": "code",
   "execution_count": 26,
   "id": "0b58fcb7",
   "metadata": {},
   "outputs": [
    {
     "name": "stdout",
     "output_type": "stream",
     "text": [
      "2\n",
      "KarolEva\n",
      "1Eva\n"
     ]
    }
   ],
   "source": [
    "print(1 + 1)\n",
    "print (\"Karol\" + \"Eva\")\n",
    "print(str(1) + \"Eva\")"
   ]
  },
  {
   "cell_type": "markdown",
   "id": "31a46928",
   "metadata": {},
   "source": [
    "## Slovniky (dict) a mnoziny (sets)"
   ]
  },
  {
   "cell_type": "code",
   "execution_count": 15,
   "id": "bb70c8cd",
   "metadata": {},
   "outputs": [
    {
     "name": "stdout",
     "output_type": "stream",
     "text": [
      "Obsah slovnika je {'Mama': 'Anna', 'Otec': 'Marian', 'Brat': 'Jaroslav', 'Teta': 'Edita'} Datovy typ: <class 'dict'>\n",
      "Kluc slovnika rodina je Mama a hodnota je: Anna\n",
      "Kluc slovnika rodina je Otec a hodnota je: Marian\n",
      "Kluc slovnika rodina je Brat a hodnota je: Jaroslav\n",
      "Kluc slovnika rodina je Teta a hodnota je: Edita\n",
      "Prvy v slovniku je:  Anna\n",
      "Teta sa vola Edita\n"
     ]
    }
   ],
   "source": [
    "#Pre slovniky sa pouzivaju {} zatvorky\n",
    "#slovnik sa sklada z tzv. kluca (key):hodnoty (value),asociativne polia/zoznamy\n",
    "#kluc = index\n",
    "#Slovniky maju format JSON key:value\n",
    "rodina = {\"Mama\":\"Anna\", \"Otec\":\"Marian\", \"Brat\":\"Jaroslav\", \"Teta\":\"Edita\"}\n",
    "\n",
    "print (\"Obsah slovnika je\", rodina, \"Datovy typ:\",type(rodina))\n",
    "#priklady tvrby slovnika\n",
    "slovnik = {}\n",
    "slovnik = dict()\n",
    "\n",
    "#V cykle for je dobre iteraciu nazvat k (kluc) - pre slovnik\n",
    "for k in rodina:\n",
    "    print (\"Kluc slovnika rodina je\", k, \"a hodnota je:\",rodina[k])\n",
    "\n",
    "#Ako pristupujeme k hodnote v slovniku - pomocou kluca v hranatych zatvorkach\n",
    "print (\"Prvy v slovniku je: \", rodina[\"Mama\"])\n",
    "print (\"Teta sa vola\", rodina[\"Teta\"])"
   ]
  },
  {
   "cell_type": "code",
   "execution_count": 18,
   "id": "c6fc0208",
   "metadata": {},
   "outputs": [
    {
     "name": "stdout",
     "output_type": "stream",
     "text": [
      "Obsah slovnika je {'Adam': 'programator', 'Eva': 'HR', 'Jan': 'analytik', 'Robert': 'db specialista', 'Anna': 'asistentka'} Datovy typ: <class 'dict'>\n",
      "Obsah slovnika je {0: 'programator', 1: 'HR', 2: 'analytik', 3: 'db specialista', 4: 'asistentka'} Datovy typ: <class 'dict'>\n"
     ]
    }
   ],
   "source": [
    "#Vytvorenie slovnika zo zoznamov pomocou tzv. funkcie zip() a prekonvertovanie pomocou funkcie dict()\n",
    "zoznam_zamestnanci = [\"Adam\", \"Eva\", \"Jan\", \"Robert\", \"Anna\", \"Martina\"]\n",
    "pozicia = [\"programator\",\"HR\",\"analytik\",\"db specialista\",\"asistentka\"]\n",
    "\n",
    "slovnik_zamestnanci_pozicie = dict(zip(zoznam_zamestnanci, pozicia))\n",
    "print (\"Obsah slovnika je\", slovnik_zamestnanci_pozicie, \"Datovy typ:\",type(slovnik_zamestnanci_pozicie))\n",
    "\n",
    "#Cislovanie, enumeracia slovnika\n",
    "slovnik_pozicie_cislovane = dict(enumerate(pozicia))\n",
    "print (\"Obsah slovnika je\", slovnik_pozicie_cislovane, \"Datovy typ:\",type(slovnik_pozicie_cislovane))"
   ]
  },
  {
   "cell_type": "code",
   "execution_count": 19,
   "id": "bc77cfa3",
   "metadata": {},
   "outputs": [
    {
     "name": "stdout",
     "output_type": "stream",
     "text": [
      "Obsah mnoziny je {'Notebooky', 'Tlaciarne', 'Mysky'} Datovy typ: <class 'set'>\n"
     ]
    }
   ],
   "source": [
    "#Mnoziny\n",
    "mnozina_produktov = {\"Notebooky\", \"Mysky\", \"Tlaciarne\"}\n",
    "print (\"Obsah mnoziny je\", mnozina_produktov, \"Datovy typ:\",type(mnozina_produktov))"
   ]
  },
  {
   "cell_type": "markdown",
   "id": "11a3f7ad",
   "metadata": {},
   "source": [
    "## Vlastne funkcie / podprogramy (definicie v Pythone)"
   ]
  },
  {
   "cell_type": "code",
   "execution_count": 28,
   "id": "2b840133",
   "metadata": {},
   "outputs": [
    {
     "name": "stdout",
     "output_type": "stream",
     "text": [
      "Ahoj.\n",
      "<function vypis_ahoj at 0x000002AC175E7AF0>\n",
      "<class 'function'>\n",
      "Toto je dokumentacia k funkcii.\n"
     ]
    }
   ],
   "source": [
    "#Definicia funkcie\n",
    "def vypis_ahoj():\n",
    "    \"\"\"Toto je dokumentacia k funkcii.\"\"\"\n",
    "    print(\"Ahoj.\")\n",
    "\n",
    "#Volanie funkcie/definicie\n",
    "vypis_ahoj()\n",
    "\n",
    "print(vypis_ahoj)\n",
    "print (type(vypis_ahoj))\n",
    "\n",
    "#Ako sa dostat k dokumentacii funkcie\n",
    "print(vypis_ahoj.__doc__)\n",
    "\n"
   ]
  },
  {
   "cell_type": "code",
   "execution_count": 44,
   "id": "2014538a",
   "metadata": {},
   "outputs": [],
   "source": [
    "def vypis_cele_meno(titul, meno, priezvisko):\n",
    "    #capitalize vystup je vzdy velke zaciatocne pismeno aj ked sa zada male\n",
    "    #strip - zbavenie sa zbytocnych medzier\n",
    "    #v tele funkcie je vhodnejsie davat funkciu return(), ktora vracia vystupnu hodnotu\n",
    "    #print() je vhodne davat pri volani funkcie\n",
    "    cele_meno = titul.strip().capitalize() + \" \" + meno.strip().capitalize() + \" \" + priezvisko.strip().capitalize()\n",
    "    return (f\"Ahoj {cele_meno}\")"
   ]
  },
  {
   "cell_type": "code",
   "execution_count": 45,
   "id": "10496be7",
   "metadata": {},
   "outputs": [
    {
     "name": "stdout",
     "output_type": "stream",
     "text": [
      "Ahoj Ing. Adam Sangala\n"
     ]
    }
   ],
   "source": [
    "print(vypis_cele_meno (\"ing.                \", \"     ADAM\", \"        sangala          \"))"
   ]
  },
  {
   "cell_type": "code",
   "execution_count": null,
   "id": "ae2ebe32",
   "metadata": {},
   "outputs": [],
   "source": []
  }
 ],
 "metadata": {
  "kernelspec": {
   "display_name": "Python 3 (ipykernel)",
   "language": "python",
   "name": "python3"
  },
  "language_info": {
   "codemirror_mode": {
    "name": "ipython",
    "version": 3
   },
   "file_extension": ".py",
   "mimetype": "text/x-python",
   "name": "python",
   "nbconvert_exporter": "python",
   "pygments_lexer": "ipython3",
   "version": "3.9.12"
  }
 },
 "nbformat": 4,
 "nbformat_minor": 5
}
